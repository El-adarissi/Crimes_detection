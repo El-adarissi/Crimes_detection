{
  "cells": [
    {
      "cell_type": "code",
      "execution_count": 1,
      "metadata": {
        "id": "IeXkQ0AGV3Sp"
      },
      "outputs": [],
      "source": [
        "import pandas as pd\n",
        "import numpy as np\n",
        "import missingno as msno\n",
        "import matplotlib.pyplot as plt\n",
        "from sklearn.linear_model import LinearRegression\n",
        "from sklearn.metrics import mean_squared_error\n",
        "import pandas as pd\n",
        "from sklearn.model_selection import train_test_split\n",
        "from sklearn.preprocessing import LabelEncoder\n",
        "from keras.models import Sequential\n",
        "from keras.layers import LSTM,Dense\n",
        "import numpy as np\n"
      ]
    },
    {
      "cell_type": "code",
      "execution_count": 17,
      "metadata": {
        "colab": {
          "base_uri": "https://localhost:8080/"
        },
        "id": "lFUOZYVZXVjS",
        "outputId": "e73e0598-f9fc-437f-a78b-2e7061d9019f"
      },
      "outputs": [
        {
          "name": "stderr",
          "output_type": "stream",
          "text": [
            "<ipython-input-17-1c2cbf03f2e1>:1: DtypeWarning: Columns (0,2,6,12) have mixed types. Specify dtype option on import or set low_memory=False.\n",
            "  my_dataframe=pd.read_csv('2015.csv')\n"
          ]
        },
        {
          "data": {
            "text/plain": [
              "(656904, 17)"
            ]
          },
          "execution_count": 17,
          "metadata": {},
          "output_type": "execute_result"
        }
      ],
      "source": [
        "my_dataframe=pd.read_csv('2015.csv')\n",
        "my_dataframe.shape"
      ]
    },
    {
      "cell_type": "code",
      "execution_count": 18,
      "metadata": {
        "colab": {
          "base_uri": "https://localhost:8080/",
          "height": 313
        },
        "id": "EoDpcT7SabFC",
        "outputId": "b437d290-dffc-420f-b970-e4a7b7daf0ce"
      },
      "outputs": [
        {
          "data": {
            "text/html": [
              "\n",
              "  <div id=\"df-8995f134-08e5-442f-8e7b-ac1c917732b0\" class=\"colab-df-container\">\n",
              "    <div>\n",
              "<style scoped>\n",
              "    .dataframe tbody tr th:only-of-type {\n",
              "        vertical-align: middle;\n",
              "    }\n",
              "\n",
              "    .dataframe tbody tr th {\n",
              "        vertical-align: top;\n",
              "    }\n",
              "\n",
              "    .dataframe thead th {\n",
              "        text-align: right;\n",
              "    }\n",
              "</style>\n",
              "<table border=\"1\" class=\"dataframe\">\n",
              "  <thead>\n",
              "    <tr style=\"text-align: right;\">\n",
              "      <th></th>\n",
              "      <th>INCIDENT_NUMBER</th>\n",
              "      <th>OFFENSE_CODE</th>\n",
              "      <th>OFFENSE_CODE_GROUP</th>\n",
              "      <th>OFFENSE_DESCRIPTION</th>\n",
              "      <th>DISTRICT</th>\n",
              "      <th>REPORTING_AREA</th>\n",
              "      <th>SHOOTING</th>\n",
              "      <th>OCCURRED_ON_DATE</th>\n",
              "      <th>YEAR</th>\n",
              "      <th>MONTH</th>\n",
              "      <th>DAY_OF_WEEK</th>\n",
              "      <th>HOUR</th>\n",
              "      <th>UCR_PART</th>\n",
              "      <th>STREET</th>\n",
              "      <th>Lat</th>\n",
              "      <th>Long</th>\n",
              "      <th>Location</th>\n",
              "    </tr>\n",
              "  </thead>\n",
              "  <tbody>\n",
              "    <tr>\n",
              "      <th>0</th>\n",
              "      <td>I172040657</td>\n",
              "      <td>2629</td>\n",
              "      <td>Harassment</td>\n",
              "      <td>HARASSMENT</td>\n",
              "      <td>C11</td>\n",
              "      <td>397</td>\n",
              "      <td>NaN</td>\n",
              "      <td>15/06/2015 00:00</td>\n",
              "      <td>2015</td>\n",
              "      <td>6</td>\n",
              "      <td>Monday</td>\n",
              "      <td>0</td>\n",
              "      <td>Part Two</td>\n",
              "      <td>MELBOURNE ST</td>\n",
              "      <td>42.291093</td>\n",
              "      <td>-71.065945</td>\n",
              "      <td>(42.29109287, -71.06594539)</td>\n",
              "    </tr>\n",
              "    <tr>\n",
              "      <th>1</th>\n",
              "      <td>I182061268</td>\n",
              "      <td>3201</td>\n",
              "      <td>Property Lost</td>\n",
              "      <td>PROPERTY - LOST</td>\n",
              "      <td>NaN</td>\n",
              "      <td></td>\n",
              "      <td>NaN</td>\n",
              "      <td>15/06/2015 00:00</td>\n",
              "      <td>2015</td>\n",
              "      <td>6</td>\n",
              "      <td>Monday</td>\n",
              "      <td>0</td>\n",
              "      <td>Part Three</td>\n",
              "      <td>BERNARD</td>\n",
              "      <td>NaN</td>\n",
              "      <td>NaN</td>\n",
              "      <td>NaN</td>\n",
              "    </tr>\n",
              "    <tr>\n",
              "      <th>2</th>\n",
              "      <td>I162013546</td>\n",
              "      <td>3201</td>\n",
              "      <td>Property Lost</td>\n",
              "      <td>PROPERTY - LOST</td>\n",
              "      <td>B3</td>\n",
              "      <td>433</td>\n",
              "      <td>NaN</td>\n",
              "      <td>15/06/2015 00:00</td>\n",
              "      <td>2015</td>\n",
              "      <td>6</td>\n",
              "      <td>Monday</td>\n",
              "      <td>0</td>\n",
              "      <td>Part Three</td>\n",
              "      <td>NORFOLK ST</td>\n",
              "      <td>42.283634</td>\n",
              "      <td>-71.082813</td>\n",
              "      <td>(42.28363434, -71.08281320)</td>\n",
              "    </tr>\n",
              "    <tr>\n",
              "      <th>3</th>\n",
              "      <td>I152051083</td>\n",
              "      <td>3115</td>\n",
              "      <td>Investigate Person</td>\n",
              "      <td>INVESTIGATE PERSON</td>\n",
              "      <td>A7</td>\n",
              "      <td>20</td>\n",
              "      <td>NaN</td>\n",
              "      <td>15/06/2015 00:00</td>\n",
              "      <td>2015</td>\n",
              "      <td>6</td>\n",
              "      <td>Monday</td>\n",
              "      <td>0</td>\n",
              "      <td>Part Three</td>\n",
              "      <td>PARIS ST</td>\n",
              "      <td>42.377023</td>\n",
              "      <td>-71.032247</td>\n",
              "      <td>(42.37702319, -71.03224730)</td>\n",
              "    </tr>\n",
              "    <tr>\n",
              "      <th>4</th>\n",
              "      <td>I152059178</td>\n",
              "      <td>2647</td>\n",
              "      <td>Other</td>\n",
              "      <td>THREATS TO DO BODILY HARM</td>\n",
              "      <td>C11</td>\n",
              "      <td>359</td>\n",
              "      <td>NaN</td>\n",
              "      <td>15/06/2015 00:00</td>\n",
              "      <td>2015</td>\n",
              "      <td>6</td>\n",
              "      <td>Monday</td>\n",
              "      <td>0</td>\n",
              "      <td>Part Two</td>\n",
              "      <td>WASHINGTON ST</td>\n",
              "      <td>42.293606</td>\n",
              "      <td>-71.071887</td>\n",
              "      <td>(42.29360585, -71.07188650)</td>\n",
              "    </tr>\n",
              "  </tbody>\n",
              "</table>\n",
              "</div>\n",
              "    <div class=\"colab-df-buttons\">\n",
              "\n",
              "  <div class=\"colab-df-container\">\n",
              "    <button class=\"colab-df-convert\" onclick=\"convertToInteractive('df-8995f134-08e5-442f-8e7b-ac1c917732b0')\"\n",
              "            title=\"Convert this dataframe to an interactive table.\"\n",
              "            style=\"display:none;\">\n",
              "\n",
              "  <svg xmlns=\"http://www.w3.org/2000/svg\" height=\"24px\" viewBox=\"0 -960 960 960\">\n",
              "    <path d=\"M120-120v-720h720v720H120Zm60-500h600v-160H180v160Zm220 220h160v-160H400v160Zm0 220h160v-160H400v160ZM180-400h160v-160H180v160Zm440 0h160v-160H620v160ZM180-180h160v-160H180v160Zm440 0h160v-160H620v160Z\"/>\n",
              "  </svg>\n",
              "    </button>\n",
              "\n",
              "  <style>\n",
              "    .colab-df-container {\n",
              "      display:flex;\n",
              "      gap: 12px;\n",
              "    }\n",
              "\n",
              "    .colab-df-convert {\n",
              "      background-color: #E8F0FE;\n",
              "      border: none;\n",
              "      border-radius: 50%;\n",
              "      cursor: pointer;\n",
              "      display: none;\n",
              "      fill: #1967D2;\n",
              "      height: 32px;\n",
              "      padding: 0 0 0 0;\n",
              "      width: 32px;\n",
              "    }\n",
              "\n",
              "    .colab-df-convert:hover {\n",
              "      background-color: #E2EBFA;\n",
              "      box-shadow: 0px 1px 2px rgba(60, 64, 67, 0.3), 0px 1px 3px 1px rgba(60, 64, 67, 0.15);\n",
              "      fill: #174EA6;\n",
              "    }\n",
              "\n",
              "    .colab-df-buttons div {\n",
              "      margin-bottom: 4px;\n",
              "    }\n",
              "\n",
              "    [theme=dark] .colab-df-convert {\n",
              "      background-color: #3B4455;\n",
              "      fill: #D2E3FC;\n",
              "    }\n",
              "\n",
              "    [theme=dark] .colab-df-convert:hover {\n",
              "      background-color: #434B5C;\n",
              "      box-shadow: 0px 1px 3px 1px rgba(0, 0, 0, 0.15);\n",
              "      filter: drop-shadow(0px 1px 2px rgba(0, 0, 0, 0.3));\n",
              "      fill: #FFFFFF;\n",
              "    }\n",
              "  </style>\n",
              "\n",
              "    <script>\n",
              "      const buttonEl =\n",
              "        document.querySelector('#df-8995f134-08e5-442f-8e7b-ac1c917732b0 button.colab-df-convert');\n",
              "      buttonEl.style.display =\n",
              "        google.colab.kernel.accessAllowed ? 'block' : 'none';\n",
              "\n",
              "      async function convertToInteractive(key) {\n",
              "        const element = document.querySelector('#df-8995f134-08e5-442f-8e7b-ac1c917732b0');\n",
              "        const dataTable =\n",
              "          await google.colab.kernel.invokeFunction('convertToInteractive',\n",
              "                                                    [key], {});\n",
              "        if (!dataTable) return;\n",
              "\n",
              "        const docLinkHtml = 'Like what you see? Visit the ' +\n",
              "          '<a target=\"_blank\" href=https://colab.research.google.com/notebooks/data_table.ipynb>data table notebook</a>'\n",
              "          + ' to learn more about interactive tables.';\n",
              "        element.innerHTML = '';\n",
              "        dataTable['output_type'] = 'display_data';\n",
              "        await google.colab.output.renderOutput(dataTable, element);\n",
              "        const docLink = document.createElement('div');\n",
              "        docLink.innerHTML = docLinkHtml;\n",
              "        element.appendChild(docLink);\n",
              "      }\n",
              "    </script>\n",
              "  </div>\n",
              "\n",
              "\n",
              "<div id=\"df-6585656e-46fa-4fe6-9ecb-26ae92db87c3\">\n",
              "  <button class=\"colab-df-quickchart\" onclick=\"quickchart('df-6585656e-46fa-4fe6-9ecb-26ae92db87c3')\"\n",
              "            title=\"Suggest charts\"\n",
              "            style=\"display:none;\">\n",
              "\n",
              "<svg xmlns=\"http://www.w3.org/2000/svg\" height=\"24px\"viewBox=\"0 0 24 24\"\n",
              "     width=\"24px\">\n",
              "    <g>\n",
              "        <path d=\"M19 3H5c-1.1 0-2 .9-2 2v14c0 1.1.9 2 2 2h14c1.1 0 2-.9 2-2V5c0-1.1-.9-2-2-2zM9 17H7v-7h2v7zm4 0h-2V7h2v10zm4 0h-2v-4h2v4z\"/>\n",
              "    </g>\n",
              "</svg>\n",
              "  </button>\n",
              "\n",
              "<style>\n",
              "  .colab-df-quickchart {\n",
              "      --bg-color: #E8F0FE;\n",
              "      --fill-color: #1967D2;\n",
              "      --hover-bg-color: #E2EBFA;\n",
              "      --hover-fill-color: #174EA6;\n",
              "      --disabled-fill-color: #AAA;\n",
              "      --disabled-bg-color: #DDD;\n",
              "  }\n",
              "\n",
              "  [theme=dark] .colab-df-quickchart {\n",
              "      --bg-color: #3B4455;\n",
              "      --fill-color: #D2E3FC;\n",
              "      --hover-bg-color: #434B5C;\n",
              "      --hover-fill-color: #FFFFFF;\n",
              "      --disabled-bg-color: #3B4455;\n",
              "      --disabled-fill-color: #666;\n",
              "  }\n",
              "\n",
              "  .colab-df-quickchart {\n",
              "    background-color: var(--bg-color);\n",
              "    border: none;\n",
              "    border-radius: 50%;\n",
              "    cursor: pointer;\n",
              "    display: none;\n",
              "    fill: var(--fill-color);\n",
              "    height: 32px;\n",
              "    padding: 0;\n",
              "    width: 32px;\n",
              "  }\n",
              "\n",
              "  .colab-df-quickchart:hover {\n",
              "    background-color: var(--hover-bg-color);\n",
              "    box-shadow: 0 1px 2px rgba(60, 64, 67, 0.3), 0 1px 3px 1px rgba(60, 64, 67, 0.15);\n",
              "    fill: var(--button-hover-fill-color);\n",
              "  }\n",
              "\n",
              "  .colab-df-quickchart-complete:disabled,\n",
              "  .colab-df-quickchart-complete:disabled:hover {\n",
              "    background-color: var(--disabled-bg-color);\n",
              "    fill: var(--disabled-fill-color);\n",
              "    box-shadow: none;\n",
              "  }\n",
              "\n",
              "  .colab-df-spinner {\n",
              "    border: 2px solid var(--fill-color);\n",
              "    border-color: transparent;\n",
              "    border-bottom-color: var(--fill-color);\n",
              "    animation:\n",
              "      spin 1s steps(1) infinite;\n",
              "  }\n",
              "\n",
              "  @keyframes spin {\n",
              "    0% {\n",
              "      border-color: transparent;\n",
              "      border-bottom-color: var(--fill-color);\n",
              "      border-left-color: var(--fill-color);\n",
              "    }\n",
              "    20% {\n",
              "      border-color: transparent;\n",
              "      border-left-color: var(--fill-color);\n",
              "      border-top-color: var(--fill-color);\n",
              "    }\n",
              "    30% {\n",
              "      border-color: transparent;\n",
              "      border-left-color: var(--fill-color);\n",
              "      border-top-color: var(--fill-color);\n",
              "      border-right-color: var(--fill-color);\n",
              "    }\n",
              "    40% {\n",
              "      border-color: transparent;\n",
              "      border-right-color: var(--fill-color);\n",
              "      border-top-color: var(--fill-color);\n",
              "    }\n",
              "    60% {\n",
              "      border-color: transparent;\n",
              "      border-right-color: var(--fill-color);\n",
              "    }\n",
              "    80% {\n",
              "      border-color: transparent;\n",
              "      border-right-color: var(--fill-color);\n",
              "      border-bottom-color: var(--fill-color);\n",
              "    }\n",
              "    90% {\n",
              "      border-color: transparent;\n",
              "      border-bottom-color: var(--fill-color);\n",
              "    }\n",
              "  }\n",
              "</style>\n",
              "\n",
              "  <script>\n",
              "    async function quickchart(key) {\n",
              "      const quickchartButtonEl =\n",
              "        document.querySelector('#' + key + ' button');\n",
              "      quickchartButtonEl.disabled = true;  // To prevent multiple clicks.\n",
              "      quickchartButtonEl.classList.add('colab-df-spinner');\n",
              "      try {\n",
              "        const charts = await google.colab.kernel.invokeFunction(\n",
              "            'suggestCharts', [key], {});\n",
              "      } catch (error) {\n",
              "        console.error('Error during call to suggestCharts:', error);\n",
              "      }\n",
              "      quickchartButtonEl.classList.remove('colab-df-spinner');\n",
              "      quickchartButtonEl.classList.add('colab-df-quickchart-complete');\n",
              "    }\n",
              "    (() => {\n",
              "      let quickchartButtonEl =\n",
              "        document.querySelector('#df-6585656e-46fa-4fe6-9ecb-26ae92db87c3 button');\n",
              "      quickchartButtonEl.style.display =\n",
              "        google.colab.kernel.accessAllowed ? 'block' : 'none';\n",
              "    })();\n",
              "  </script>\n",
              "</div>\n",
              "    </div>\n",
              "  </div>\n"
            ],
            "text/plain": [
              "  INCIDENT_NUMBER  OFFENSE_CODE  OFFENSE_CODE_GROUP  \\\n",
              "0      I172040657          2629          Harassment   \n",
              "1      I182061268          3201       Property Lost   \n",
              "2      I162013546          3201       Property Lost   \n",
              "3      I152051083          3115  Investigate Person   \n",
              "4      I152059178          2647               Other   \n",
              "\n",
              "         OFFENSE_DESCRIPTION DISTRICT REPORTING_AREA SHOOTING  \\\n",
              "0                 HARASSMENT      C11            397      NaN   \n",
              "1            PROPERTY - LOST      NaN                     NaN   \n",
              "2            PROPERTY - LOST       B3            433      NaN   \n",
              "3         INVESTIGATE PERSON       A7             20      NaN   \n",
              "4  THREATS TO DO BODILY HARM      C11            359      NaN   \n",
              "\n",
              "   OCCURRED_ON_DATE  YEAR  MONTH DAY_OF_WEEK  HOUR    UCR_PART         STREET  \\\n",
              "0  15/06/2015 00:00  2015      6      Monday     0    Part Two   MELBOURNE ST   \n",
              "1  15/06/2015 00:00  2015      6      Monday     0  Part Three        BERNARD   \n",
              "2  15/06/2015 00:00  2015      6      Monday     0  Part Three     NORFOLK ST   \n",
              "3  15/06/2015 00:00  2015      6      Monday     0  Part Three       PARIS ST   \n",
              "4  15/06/2015 00:00  2015      6      Monday     0    Part Two  WASHINGTON ST   \n",
              "\n",
              "         Lat       Long                     Location  \n",
              "0  42.291093 -71.065945  (42.29109287, -71.06594539)  \n",
              "1        NaN        NaN                          NaN  \n",
              "2  42.283634 -71.082813  (42.28363434, -71.08281320)  \n",
              "3  42.377023 -71.032247  (42.37702319, -71.03224730)  \n",
              "4  42.293606 -71.071887  (42.29360585, -71.07188650)  "
            ]
          },
          "execution_count": 18,
          "metadata": {},
          "output_type": "execute_result"
        }
      ],
      "source": [
        "#my_dataframe.isnull().sum()\n",
        "my_dataframe.head()"
      ]
    },
    {
      "cell_type": "code",
      "execution_count": 22,
      "metadata": {
        "colab": {
          "base_uri": "https://localhost:8080/",
          "height": 442
        },
        "id": "XhvkpIC7b4UX",
        "outputId": "46739cf1-2a2a-41f7-be0f-11718269638e"
      },
      "outputs": [
        {
          "data": {
            "text/plain": [
              "<Axes: >"
            ]
          },
          "execution_count": 22,
          "metadata": {},
          "output_type": "execute_result"
        },
        {
          "data": {
            "image/png": "[encoded data removed]",
            "text/plain": [
              "<Figure size 2500x1000 with 2 Axes>"
            ]
          },
          "metadata": {},
          "output_type": "display_data"
        }
      ],
      "source": [
        "msno.matrix(my_dataframe)"
      ]
    },
    {
      "cell_type": "code",
      "execution_count": 19,
      "metadata": {
        "id": "i69kvf2edIll"
      },
      "outputs": [],
      "source": [
        "my_dataframe.drop(['OFFENSE_DESCRIPTION','INCIDENT_NUMBER', 'OFFENSE_CODE', 'OFFENSE_CODE_GROUP', 'REPORTING_AREA', 'SHOOTING', 'OCCURRED_ON_DATE', 'UCR_PART', 'STREET', 'Location','DAY_OF_WEEK'], axis=1, inplace=True)\n"
      ]
    },
    {
      "cell_type": "code",
      "execution_count": 20,
      "metadata": {
        "colab": {
          "base_uri": "https://localhost:8080/"
        },
        "id": "eRWxtWghd4w1",
        "outputId": "ef91dcb5-aafc-4082-c9d8-f1854b826935"
      },
      "outputs": [
        {
          "data": {
            "text/plain": [
              "(618908, 6)"
            ]
          },
          "execution_count": 20,
          "metadata": {},
          "output_type": "execute_result"
        }
      ],
      "source": [
        "# Drop rows with null values in both 'DISTRICT' and 'Location'\n",
        "my_dataframe = my_dataframe.dropna(subset=['DISTRICT','Lat','Long'])\n",
        "\n",
        "my_dataframe.shape"
      ]
    },
    {
      "cell_type": "code",
      "execution_count": 21,
      "metadata": {
        "colab": {
          "base_uri": "https://localhost:8080/"
        },
        "id": "thHBwBWvzNpk",
        "outputId": "b3099832-dd6a-4694-b0be-98e660b6030f"
      },
      "outputs": [
        {
          "data": {
            "text/plain": [
              "Index(['DISTRICT', 'YEAR', 'MONTH', 'HOUR', 'Lat', 'Long'], dtype='object')"
            ]
          },
          "execution_count": 21,
          "metadata": {},
          "output_type": "execute_result"
        }
      ],
      "source": [
        "my_dataframe.columns"
      ]
    },
    {
      "cell_type": "code",
      "execution_count": 23,
      "metadata": {
        "colab": {
          "base_uri": "https://localhost:8080/"
        },
        "id": "uUz6S7s3ofmG",
        "outputId": "bb9c3248-88f8-4a8a-c70f-03b84a1a2ad7"
      },
      "outputs": [
        {
          "name": "stdout",
          "output_type": "stream",
          "text": [
            "Model: \"sequential_1\"\n",
            "_________________________________________________________________\n",
            " Layer (type)                Output Shape              Param #   \n",
            "=================================================================\n",
            " lstm_1 (LSTM)               (None, 150)               93000     \n",
            "                                                                 \n",
            " dense_1 (Dense)             (None, 2)                 302       \n",
            "                                                                 \n",
            "=================================================================\n",
            "Total params: 93302 (364.46 KB)\n",
            "Trainable params: 93302 (364.46 KB)\n",
            "Non-trainable params: 0 (0.00 Byte)\n",
            "_________________________________________________________________\n",
            "Epoch 1/100\n",
            "12379/12379 [==============================] - 63s 5ms/step - loss: 103.3321 - val_loss: 0.0398\n",
            "Epoch 2/100\n",
            "12379/12379 [==============================] - 60s 5ms/step - loss: 0.0018 - val_loss: 0.0362\n",
            "Epoch 3/100\n",
            "12379/12379 [==============================] - 58s 5ms/step - loss: 0.0011 - val_loss: 0.0358\n",
            "Epoch 4/100\n",
            "12379/12379 [==============================] - 58s 5ms/step - loss: 0.0010 - val_loss: 0.0356\n",
            "Epoch 5/100\n",
            "12379/12379 [==============================] - 63s 5ms/step - loss: 9.7458e-04 - val_loss: 0.0355\n",
            "Epoch 6/100\n",
            "12379/12379 [==============================] - 63s 5ms/step - loss: 9.5330e-04 - val_loss: 0.0359\n",
            "Epoch 7/100\n",
            "12379/12379 [==============================] - 61s 5ms/step - loss: 9.2844e-04 - val_loss: 0.0360\n",
            "Epoch 8/100\n",
            "12379/12379 [==============================] - 62s 5ms/step - loss: 8.9580e-04 - val_loss: 0.0357\n",
            "Epoch 9/100\n",
            "12379/12379 [==============================] - 63s 5ms/step - loss: 8.6204e-04 - val_loss: 0.0355\n",
            "Epoch 10/100\n",
            "12379/12379 [==============================] - 57s 5ms/step - loss: 8.3605e-04 - val_loss: 0.0361\n",
            "Epoch 11/100\n",
            "12379/12379 [==============================] - 58s 5ms/step - loss: 8.1494e-04 - val_loss: 0.0354\n",
            "Epoch 12/100\n",
            "12379/12379 [==============================] - 63s 5ms/step - loss: 8.0508e-04 - val_loss: 0.0353\n",
            "Epoch 13/100\n",
            "12379/12379 [==============================] - 57s 5ms/step - loss: 7.8368e-04 - val_loss: 0.0357\n",
            "Epoch 14/100\n",
            "12379/12379 [==============================] - 57s 5ms/step - loss: 7.5278e-04 - val_loss: 0.0351\n",
            "Epoch 15/100\n",
            "12379/12379 [==============================] - 57s 5ms/step - loss: 7.1300e-04 - val_loss: 0.0352\n",
            "Epoch 16/100\n",
            "12379/12379 [==============================] - 62s 5ms/step - loss: 6.7305e-04 - val_loss: 0.0351\n",
            "Epoch 17/100\n",
            "12379/12379 [==============================] - 65s 5ms/step - loss: 6.4805e-04 - val_loss: 0.0352\n",
            "Epoch 18/100\n",
            "12379/12379 [==============================] - 60s 5ms/step - loss: 6.2940e-04 - val_loss: 0.0359\n",
            "Epoch 19/100\n",
            "12379/12379 [==============================] - 63s 5ms/step - loss: 6.1190e-04 - val_loss: 0.0352\n",
            "Epoch 20/100\n",
            "12379/12379 [==============================] - 59s 5ms/step - loss: 6.0506e-04 - val_loss: 0.0350\n",
            "Epoch 21/100\n",
            "12379/12379 [==============================] - 63s 5ms/step - loss: 6.0439e-04 - val_loss: 0.0362\n",
            "Epoch 22/100\n",
            "12379/12379 [==============================] - 61s 5ms/step - loss: 5.9697e-04 - val_loss: 0.0352\n",
            "Epoch 23/100\n",
            "12379/12379 [==============================] - 63s 5ms/step - loss: 5.8902e-04 - val_loss: 0.0352\n",
            "Epoch 24/100\n",
            "12379/12379 [==============================] - 59s 5ms/step - loss: 5.8307e-04 - val_loss: 0.0352\n",
            "Epoch 25/100\n",
            "12379/12379 [==============================] - 65s 5ms/step - loss: 5.6644e-04 - val_loss: 0.0354\n",
            "Epoch 26/100\n",
            "12379/12379 [==============================] - 64s 5ms/step - loss: 5.4200e-04 - val_loss: 0.0352\n",
            "Epoch 27/100\n",
            "12379/12379 [==============================] - 63s 5ms/step - loss: 5.1980e-04 - val_loss: 0.0353\n",
            "Epoch 28/100\n",
            "12379/12379 [==============================] - 62s 5ms/step - loss: 4.9467e-04 - val_loss: 0.0352\n",
            "Epoch 29/100\n",
            "12379/12379 [==============================] - 62s 5ms/step - loss: 4.7033e-04 - val_loss: 0.0355\n",
            "Epoch 30/100\n",
            "12379/12379 [==============================] - 58s 5ms/step - loss: 4.5733e-04 - val_loss: 0.0350\n",
            "Epoch 31/100\n",
            "12379/12379 [==============================] - 58s 5ms/step - loss: 4.3632e-04 - val_loss: 0.0351\n",
            "Epoch 32/100\n",
            "12379/12379 [==============================] - 59s 5ms/step - loss: 4.1064e-04 - val_loss: 0.0352\n",
            "Epoch 33/100\n",
            "12379/12379 [==============================] - 62s 5ms/step - loss: 3.9725e-04 - val_loss: 0.0349\n",
            "Epoch 34/100\n",
            "12379/12379 [==============================] - 63s 5ms/step - loss: 3.8282e-04 - val_loss: 0.0349\n",
            "Epoch 35/100\n",
            "12379/12379 [==============================] - 63s 5ms/step - loss: 3.8074e-04 - val_loss: 0.0349\n",
            "Epoch 36/100\n",
            "12379/12379 [==============================] - 59s 5ms/step - loss: 3.6676e-04 - val_loss: 0.0365\n",
            "Epoch 37/100\n",
            "12379/12379 [==============================] - 64s 5ms/step - loss: 3.6011e-04 - val_loss: 0.0348\n",
            "Epoch 38/100\n",
            "12379/12379 [==============================] - 63s 5ms/step - loss: 3.5312e-04 - val_loss: 0.0349\n",
            "Epoch 39/100\n",
            "12379/12379 [==============================] - 59s 5ms/step - loss: 3.3576e-04 - val_loss: 0.0349\n",
            "Epoch 40/100\n",
            "12379/12379 [==============================] - 62s 5ms/step - loss: 3.3126e-04 - val_loss: 0.0348\n",
            "Epoch 41/100\n",
            "12379/12379 [==============================] - 62s 5ms/step - loss: 3.2695e-04 - val_loss: 0.0356\n",
            "Epoch 42/100\n",
            "12379/12379 [==============================] - 60s 5ms/step - loss: 3.1876e-04 - val_loss: 0.0357\n",
            "Epoch 43/100\n",
            "12379/12379 [==============================] - 58s 5ms/step - loss: 3.1468e-04 - val_loss: 0.0352\n",
            "Epoch 44/100\n",
            "12379/12379 [==============================] - 58s 5ms/step - loss: 3.0726e-04 - val_loss: 0.0348\n",
            "Epoch 45/100\n",
            "12379/12379 [==============================] - 64s 5ms/step - loss: 3.0558e-04 - val_loss: 0.0354\n",
            "Epoch 46/100\n",
            "12379/12379 [==============================] - 60s 5ms/step - loss: 3.0239e-04 - val_loss: 0.0349\n",
            "Epoch 47/100\n",
            "12379/12379 [==============================] - 66s 5ms/step - loss: 3.0180e-04 - val_loss: 0.0349\n",
            "Epoch 48/100\n",
            "12379/12379 [==============================] - 60s 5ms/step - loss: 3.0218e-04 - val_loss: 0.0349\n",
            "Epoch 49/100\n",
            "12379/12379 [==============================] - 59s 5ms/step - loss: 2.9752e-04 - val_loss: 0.0354\n",
            "Epoch 50/100\n",
            "12379/12379 [==============================] - 64s 5ms/step - loss: 2.9590e-04 - val_loss: 0.0349\n",
            "Epoch 51/100\n",
            "12379/12379 [==============================] - 59s 5ms/step - loss: 2.9360e-04 - val_loss: 0.0349\n",
            "Epoch 52/100\n",
            "12379/12379 [==============================] - 61s 5ms/step - loss: 2.8621e-04 - val_loss: 0.0351\n",
            "Epoch 53/100\n",
            "12379/12379 [==============================] - 64s 5ms/step - loss: 2.9194e-04 - val_loss: 0.0359\n",
            "Epoch 54/100\n",
            "12379/12379 [==============================] - 59s 5ms/step - loss: 2.8755e-04 - val_loss: 0.0349\n",
            "Epoch 55/100\n",
            "12379/12379 [==============================] - 63s 5ms/step - loss: 2.8827e-04 - val_loss: 0.0349\n",
            "Epoch 56/100\n",
            "12379/12379 [==============================] - 63s 5ms/step - loss: 2.8534e-04 - val_loss: 0.0350\n",
            "Epoch 57/100\n",
            "12379/12379 [==============================] - 65s 5ms/step - loss: 2.8134e-04 - val_loss: 0.0349\n",
            "Epoch 58/100\n",
            "12379/12379 [==============================] - 59s 5ms/step - loss: 2.7763e-04 - val_loss: 0.0348\n",
            "Epoch 59/100\n",
            "12379/12379 [==============================] - 60s 5ms/step - loss: 2.7776e-04 - val_loss: 0.0348\n",
            "Epoch 60/100\n",
            "12379/12379 [==============================] - 62s 5ms/step - loss: 2.7990e-04 - val_loss: 0.0350\n",
            "Epoch 61/100\n",
            "12379/12379 [==============================] - 61s 5ms/step - loss: 2.8106e-04 - val_loss: 0.0350\n",
            "Epoch 62/100\n",
            "12379/12379 [==============================] - 61s 5ms/step - loss: 2.8312e-04 - val_loss: 0.0348\n",
            "Epoch 63/100\n",
            "12379/12379 [==============================] - 59s 5ms/step - loss: 2.7988e-04 - val_loss: 0.0349\n",
            "Epoch 64/100\n",
            "12379/12379 [==============================] - 64s 5ms/step - loss: 2.8189e-04 - val_loss: 0.0349\n",
            "Epoch 65/100\n",
            "12379/12379 [==============================] - 59s 5ms/step - loss: 2.7761e-04 - val_loss: 0.0350\n",
            "Epoch 66/100\n",
            "12379/12379 [==============================] - 61s 5ms/step - loss: 2.7214e-04 - val_loss: 0.0348\n",
            "Epoch 67/100\n",
            "12379/12379 [==============================] - 62s 5ms/step - loss: 2.6976e-04 - val_loss: 0.0349\n",
            "Epoch 68/100\n",
            "12379/12379 [==============================] - 59s 5ms/step - loss: 2.6793e-04 - val_loss: 0.0349\n",
            "Epoch 69/100\n",
            "12379/12379 [==============================] - 60s 5ms/step - loss: 2.7273e-04 - val_loss: 0.0350\n",
            "Epoch 70/100\n",
            "12379/12379 [==============================] - 64s 5ms/step - loss: 2.7600e-04 - val_loss: 0.0351\n",
            "Epoch 71/100\n",
            "12379/12379 [==============================] - 61s 5ms/step - loss: 2.6895e-04 - val_loss: 0.0347\n",
            "Epoch 72/100\n",
            "12379/12379 [==============================] - 60s 5ms/step - loss: 2.6735e-04 - val_loss: 0.0349\n",
            "Epoch 73/100\n",
            "12379/12379 [==============================] - 63s 5ms/step - loss: 2.6875e-04 - val_loss: 0.0350\n",
            "Epoch 74/100\n",
            "12379/12379 [==============================] - 64s 5ms/step - loss: 2.7058e-04 - val_loss: 0.0349\n",
            "Epoch 75/100\n",
            "12379/12379 [==============================] - 61s 5ms/step - loss: 2.6733e-04 - val_loss: 0.0348\n",
            "Epoch 76/100\n",
            "12379/12379 [==============================] - 66s 5ms/step - loss: 2.6471e-04 - val_loss: 0.0350\n",
            "Epoch 77/100\n",
            "12379/12379 [==============================] - 65s 5ms/step - loss: 2.6474e-04 - val_loss: 0.0350\n",
            "Epoch 78/100\n",
            "12379/12379 [==============================] - 65s 5ms/step - loss: 2.6304e-04 - val_loss: 0.0347\n",
            "Epoch 79/100\n",
            "12379/12379 [==============================] - 62s 5ms/step - loss: 2.6334e-04 - val_loss: 0.0348\n",
            "Epoch 80/100\n",
            "12379/12379 [==============================] - 61s 5ms/step - loss: 2.6401e-04 - val_loss: 0.0350\n",
            "Epoch 81/100\n",
            "12379/12379 [==============================] - 67s 5ms/step - loss: 2.5916e-04 - val_loss: 0.0348\n",
            "Epoch 82/100\n",
            "12379/12379 [==============================] - 67s 5ms/step - loss: 2.6607e-04 - val_loss: 0.0353\n",
            "Epoch 83/100\n",
            "12379/12379 [==============================] - 62s 5ms/step - loss: 2.6307e-04 - val_loss: 0.0348\n",
            "Epoch 84/100\n",
            "12379/12379 [==============================] - 64s 5ms/step - loss: 2.5892e-04 - val_loss: 0.0349\n",
            "Epoch 85/100\n",
            "12379/12379 [==============================] - 68s 6ms/step - loss: 2.6116e-04 - val_loss: 0.0349\n",
            "Epoch 86/100\n",
            "12379/12379 [==============================] - 67s 5ms/step - loss: 2.5668e-04 - val_loss: 0.0353\n",
            "Epoch 87/100\n",
            "12379/12379 [==============================] - 67s 5ms/step - loss: 2.6049e-04 - val_loss: 0.0349\n",
            "Epoch 88/100\n",
            "12379/12379 [==============================] - 68s 5ms/step - loss: 2.5823e-04 - val_loss: 0.0349\n",
            "Epoch 89/100\n",
            "12379/12379 [==============================] - 64s 5ms/step - loss: 2.6270e-04 - val_loss: 0.0349\n",
            "Epoch 90/100\n",
            "12379/12379 [==============================] - 69s 6ms/step - loss: 2.5803e-04 - val_loss: 0.0348\n",
            "Epoch 91/100\n",
            "12379/12379 [==============================] - 66s 5ms/step - loss: 2.5874e-04 - val_loss: 0.0348\n",
            "Epoch 92/100\n",
            "12379/12379 [==============================] - 67s 5ms/step - loss: 2.5591e-04 - val_loss: 0.0349\n",
            "Epoch 93/100\n",
            "12379/12379 [==============================] - 67s 5ms/step - loss: 2.5438e-04 - val_loss: 0.0347\n",
            "Epoch 94/100\n",
            "12379/12379 [==============================] - 66s 5ms/step - loss: 2.5157e-04 - val_loss: 0.0351\n",
            "Epoch 95/100\n",
            "12379/12379 [==============================] - 64s 5ms/step - loss: 2.5722e-04 - val_loss: 0.0348\n",
            "Epoch 96/100\n",
            "12379/12379 [==============================] - 64s 5ms/step - loss: 2.5960e-04 - val_loss: 0.0348\n",
            "Epoch 97/100\n",
            "12379/12379 [==============================] - 65s 5ms/step - loss: 2.5261e-04 - val_loss: 0.0351\n",
            "Epoch 98/100\n",
            "12379/12379 [==============================] - 60s 5ms/step - loss: 2.4951e-04 - val_loss: 0.0348\n",
            "Epoch 99/100\n",
            "12379/12379 [==============================] - 64s 5ms/step - loss: 2.5147e-04 - val_loss: 0.0351\n",
            "Epoch 100/100\n",
            "12379/12379 [==============================] - 66s 5ms/step - loss: 2.4990e-04 - val_loss: 0.0351\n",
            "3869/3869 [==============================] - 9s 2ms/step\n",
            "Mean Squared Error: 0.000566824101615356\n"
          ]
        }
      ],
      "source": [
        "from sklearn.model_selection import train_test_split\n",
        "from sklearn.preprocessing import LabelEncoder\n",
        "from sklearn.metrics import mean_squared_error\n",
        "from sklearn.linear_model import LinearRegression\n",
        "from sklearn.preprocessing import StandardScaler\n",
        "from keras.models import Sequential\n",
        "from keras.layers import Dense, LSTM\n",
        "\n",
        "le_district = LabelEncoder()\n",
        "my_dataframe['DIScTRICT'] = le_district.fit_transform(my_dataframe['DISTRICT'])\n",
        "\n",
        "X = my_dataframe.drop(['Lat', 'Long'], axis=1)\n",
        "y = my_dataframe[['Lat', 'Long']]\n",
        "\n",
        "scaler = StandardScaler()\n",
        "X_normalized = scaler.fit_transform(X)\n",
        "\n",
        "\n",
        "X_reshaped = X_normalized.reshape(X_normalized.shape[0], 1, X_normalized.shape[1])\n",
        "\n",
        "# Split the data into training and testing sets\n",
        "X_train, X_test, y_train, y_test = train_test_split(X_reshaped, y, test_size=0.2, random_state=42)\n",
        "\n",
        "# Build The model\n",
        "model = Sequential()\n",
        "model.add(LSTM(150, input_shape=(X_train.shape[1], X_train.shape[2])))\n",
        "model.add(Dense(2, activation='linear')) \n",
        "# Compile the mo  del\n",
        "model.compile(optimizer='adam', loss='mean_squared_error')\n",
        "\n",
        "# Print model summary\n",
        "model.summary()\n",
        "\n",
        "# Train the model\n",
        "history=model.fit(X_train, y_train, epochs=100, batch_size=32, validation_split=0.2)\n",
        "\n",
        "# Predicting on the test set\n",
        "y_pred = model.predict(X_test)\n",
        "\n",
        "# Calculating Mean Squared Error\n",
        "mse = mean_squared_error(y_test, y_pred)\n",
        "\n",
        "\n",
        "# Print the mean squared error\n",
        "print(\"Mean Squared Error:\", mse)\n"
      ]
    },
    {
      "cell_type": "code",
      "execution_count": 24,
      "metadata": {
        "colab": {
          "base_uri": "https://localhost:8080/",
          "height": 472
        },
        "id": "ddOR7QKqn8PJ",
        "outputId": "3dee4fef-8b87-4669-f2b7-198bbb81a2ec"
      },
      "outputs": [
        {
          "data": {
            "image/png": "[encoded data removed]",
            "text/plain": [
              "<Figure size 640x480 with 1 Axes>"
            ]
          },
          "metadata": {},
          "output_type": "display_data"
        }
      ],
      "source": [
        "# summarize history for loss\n",
        "plt.plot(history.history['loss'])\n",
        "plt.plot(history.history['val_loss'])\n",
        "plt.title('model loss')\n",
        "plt.ylabel('loss')\n",
        "plt.xlabel('epoch')\n",
        "plt.legend(['Train', 'Validation'], loc='upper left')\n",
        "plt.show()\n"
      ]
    },
    {
      "cell_type": "code",
      "execution_count": 25,
      "metadata": {
        "colab": {
          "base_uri": "https://localhost:8080/"
        },
        "id": "_czIfbi9oQRo",
        "outputId": "2c24427c-42b3-44db-d56e-9468546f52f3"
      },
      "outputs": [
        {
          "name": "stderr",
          "output_type": "stream",
          "text": [
            "<ipython-input-25-967c21d39ee3>:1: DtypeWarning: Columns (0) have mixed types. Specify dtype option on import or set low_memory=False.\n",
            "  new_data=pd.read_csv('2023_to_ Present.csv')\n"
          ]
        }
      ],
      "source": [
        "new_data=pd.read_csv('2023_to_ Present.csv')"
      ]
    },
    {
      "cell_type": "code",
      "execution_count": 26,
      "metadata": {
        "id": "etgkbjM4oZKC"
      },
      "outputs": [],
      "source": [
        "new_data.drop(['OFFENSE_DESCRIPTION','INCIDENT_NUMBER', 'OFFENSE_CODE', 'OFFENSE_CODE_GROUP', 'REPORTING_AREA', 'SHOOTING', 'OCCURRED_ON_DATE', 'UCR_PART', 'STREET', 'Location','DAY_OF_WEEK'], axis=1, inplace=True)\n"
      ]
    },
    {
      "cell_type": "code",
      "execution_count": 27,
      "metadata": {
        "id": "bkOYpyvXodP9"
      },
      "outputs": [],
      "source": [
        "new_data = new_data.dropna(subset=[ 'DISTRICT','Lat','Long'])"
      ]
    },
    {
      "cell_type": "code",
      "execution_count": 28,
      "metadata": {
        "colab": {
          "base_uri": "https://localhost:8080/"
        },
        "id": "azQB2CodofrH",
        "outputId": "1761d007-cd08-4ff3-ffd9-a45622a36c3b"
      },
      "outputs": [
        {
          "data": {
            "text/plain": [
              "Index(['DISTRICT', 'YEAR', 'MONTH', 'HOUR', 'Lat', 'Long'], dtype='object')"
            ]
          },
          "execution_count": 28,
          "metadata": {},
          "output_type": "execute_result"
        }
      ],
      "source": [
        "new_data.columns"
      ]
    },
    {
      "cell_type": "code",
      "execution_count": 29,
      "metadata": {
        "colab": {
          "base_uri": "https://localhost:8080/"
        },
        "id": "P1UlMO4Iojiw",
        "outputId": "d648e39c-1599-4659-f1c6-a77021d79c40"
      },
      "outputs": [
        {
          "name": "stdout",
          "output_type": "stream",
          "text": [
            "1898/1898 [==============================] - 5s 3ms/step\n",
            "Predicted Latitudes: [42.34286  42.367725 42.35122  ... 42.36901  42.305054 42.354023]\n",
            "Predicted Longitudes: [-71.06461  -71.09869  -71.08002  ... -71.086555 -71.07925  -71.151085]\n"
          ]
        }
      ],
      "source": [
        "# Use LabelEncoder for encoding categorical variables\n",
        "le_district = LabelEncoder()\n",
        "new_data['DISTRICT'] = le_district.fit_transform(new_data['DISTRICT'])\n",
        "\n",
        "\n",
        "X = new_data.drop(['Lat', 'Long'], axis=1)\n",
        "y = new_data[['Lat', 'Long']]\n",
        "\n",
        "# Normalize input features using StandardScaler\n",
        "scaler = StandardScaler()\n",
        "X_normalized = scaler.fit_transform(X)\n",
        "\n",
        "\n",
        "# Reshape the new data for LSTM\n",
        "new_data_reshaped = X_normalized.reshape(X_normalized.shape[0], 1, X_normalized.shape[1])\n",
        "\n",
        "# Make predictions on the new data\n",
        "predictions = model.predict(new_data_reshaped)\n",
        "\n",
        "predicted_latitudes = predictions[:, 0]\n",
        "predicted_longitudes = predictions[:, 1]\n",
        "\n",
        "# Print or use the predicted values as needed\n",
        "print(\"Predicted Latitudes:\", predicted_latitudes)\n",
        "print(\"Predicted Longitudes:\", predicted_longitudes)\n"
      ]
    },
    {
      "cell_type": "code",
      "execution_count": 30,
      "metadata": {
        "id": "ZFCZEHbyomj5"
      },
      "outputs": [],
      "source": [
        "\n",
        "results_df = pd.DataFrame({\n",
        "    'Expected_Latitude': y['Lat'][:len(predictions)],\n",
        "    'Expected_Longitude': y['Long'][:len(predictions)],\n",
        "    'Predicted_Latitude': predictions[:, 0],\n",
        "    'Predicted_Longitude': predictions[:, 1]\n",
        "})\n",
        "# Save the DataFrame to a CSV file\n",
        "results_df.to_csv('predictions_results.csv', index=False)\n"
      ]
    }
  ],
  "metadata": {
    "accelerator": "GPU",
    "colab": {
      "provenance": []
    },
    "kernelspec": {
      "display_name": "Python 3",
      "name": "python3"
    },
    "language_info": {
      "name": "python"
    }
  },
  "nbformat": 4,
  "nbformat_minor": 0
}
